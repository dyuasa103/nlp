{
 "cells": [
  {
   "cell_type": "markdown",
   "metadata": {
    "slideshow": {
     "slide_type": "skip"
    }
   },
   "source": [
    "# RISE\n",
    "https://murabitoleg.com/python-rise/"
   ]
  },
  {
   "cell_type": "code",
   "execution_count": 40,
   "metadata": {
    "slideshow": {
     "slide_type": "skip"
    }
   },
   "outputs": [
    {
     "data": {
      "text/html": [
       "<link rel=\"stylesheet\" type=\"text/css\" href=\"my_rise.css\">\n"
      ],
      "text/plain": [
       "<IPython.core.display.HTML object>"
      ]
     },
     "metadata": {},
     "output_type": "display_data"
    }
   ],
   "source": [
    "%%HTML\n",
    "<link rel=\"stylesheet\" type=\"text/css\" href=\"my_rise.css\">"
   ]
  },
  {
   "cell_type": "code",
   "execution_count": 12,
   "metadata": {
    "slideshow": {
     "slide_type": "skip"
    }
   },
   "outputs": [],
   "source": [
    "import MeCab"
   ]
  },
  {
   "cell_type": "markdown",
   "metadata": {
    "slideshow": {
     "slide_type": "slide"
    }
   },
   "source": [
    "# 自然言語処理のキソ\n",
    "\n",
    "- 本発表ではトーン分析をメインとりあげます"
   ]
  },
  {
   "cell_type": "markdown",
   "metadata": {},
   "source": [
    "## 発表者：湯浅 大地"
   ]
  },
  {
   "cell_type": "markdown",
   "metadata": {
    "slideshow": {
     "slide_type": "subslide"
    }
   },
   "source": [
    "## 自然言語\n",
    "- 自然言語とは、私たちが普段使っている言葉のこと\n",
    "- プログラミング言語などの人工的に作られた言語の対比として「自然」と呼ばれる"
   ]
  },
  {
   "cell_type": "markdown",
   "metadata": {
    "slideshow": {
     "slide_type": "subslide"
    }
   },
   "source": [
    "## 自然言語処理のやりたいこと\n",
    "- 自然言語を数学的に表現する⇨機械学習、AIに応用することができる"
   ]
  },
  {
   "cell_type": "markdown",
   "metadata": {
    "slideshow": {
     "slide_type": "subslide"
    }
   },
   "source": [
    "## 自然言語処理でできること\n",
    "- トーン分析（感情分析）\n",
    "- 類似性分析"
   ]
  },
  {
   "cell_type": "markdown",
   "metadata": {
    "slideshow": {
     "slide_type": "slide"
    }
   },
   "source": [
    "# トーン分析\n",
    "## テキストのトーン（ネガティブ／ポジティブ）を定量化"
   ]
  },
  {
   "cell_type": "markdown",
   "metadata": {
    "slideshow": {
     "slide_type": "subslide"
    }
   },
   "source": [
    "## トーン分析の主な手法\n",
    "- 極性辞書ベースに推計（★）\n",
    "- 機械学習を利用して、正解付きコーパスを学習させる"
   ]
  },
  {
   "cell_type": "markdown",
   "metadata": {
    "slideshow": {
     "slide_type": "subslide"
    }
   },
   "source": [
    "## トーン分析（極性辞書ベース推計）の手順\n",
    "- 形態素解析\n",
    "- 極性辞書ベースにネガポジ判定"
   ]
  },
  {
   "cell_type": "markdown",
   "metadata": {
    "slideshow": {
     "slide_type": "slide"
    }
   },
   "source": [
    "## 形態素解析\n",
    "\n",
    "- テキストを形態素と呼ばれる単位に分割し、各形態素に対して品詞を付与する処理のこと\n",
    "- 日本語は英語と違って文章が単語ごとに区切られていない\n",
    "- 日本語を形態素解析できるソフトウェアとして広く使われているのはMeCab"
   ]
  },
  {
   "cell_type": "markdown",
   "metadata": {
    "slideshow": {
     "slide_type": "subslide"
    }
   },
   "source": [
    "## MeCab\n",
    "\n",
    "- 京都大学とNTTの基礎研究所が共同開発したもの\n",
    "- オープンソースソフトウェアでダウンロード、使用が全て無料\n",
    "- 内蔵されているIPA辞書という日本語辞書には約40万語の単語が登録されている"
   ]
  },
  {
   "cell_type": "code",
   "execution_count": 11,
   "metadata": {
    "slideshow": {
     "slide_type": "subslide"
    }
   },
   "outputs": [
    {
     "name": "stdout",
     "output_type": "stream",
     "text": [
      "BOS/EOS,*,*,*,*,*,*,*,*\n",
      "名詞,サ変接続,*,*,*,*,企画,キカク,キカク\n",
      "名詞,接尾,一般,*,*,*,書,ショ,ショ\n",
      "助詞,格助詞,一般,*,*,*,に,ニ,ニ\n",
      "動詞,自立,*,*,五段・カ行イ音便,未然形,書く,カカ,カカ\n",
      "動詞,接尾,*,*,一段,連用形,れる,レ,レ\n",
      "助動詞,*,*,*,特殊・タ,基本形,た,タ,タ\n",
      "名詞,形容動詞語幹,*,*,*,*,斬新,ザンシン,ザンシン\n",
      "助動詞,*,*,*,特殊・ダ,体言接続,だ,ナ,ナ\n",
      "名詞,サ変接続,*,*,*,*,構想,コウソウ,コーソー\n",
      "助詞,格助詞,一般,*,*,*,に,ニ,ニ\n",
      "記号,読点,*,*,*,*,、,、,、\n",
      "副詞,助詞類接続,*,*,*,*,わくわく,ワクワク,ワクワク\n",
      "動詞,自立,*,*,サ変・スル,連用形,する,シ,シ\n",
      "助動詞,*,*,*,特殊・マス,連用形,ます,マシ,マシ\n",
      "助動詞,*,*,*,特殊・タ,基本形,た,タ,タ\n",
      "BOS/EOS,*,*,*,*,*,*,*,*\n"
     ]
    }
   ],
   "source": [
    "tagger = MeCab.Tagger('-Ochasen')\n",
    "testNode = tagger.parseToNode(\"企画書に書かれた斬新な構想に、わくわくしました\")\n",
    "while testNode:\n",
    "    print(testNode.feature)\n",
    "    testNode = testNode.next"
   ]
  },
  {
   "cell_type": "code",
   "execution_count": 13,
   "metadata": {
    "slideshow": {
     "slide_type": "skip"
    }
   },
   "outputs": [],
   "source": [
    "def word_tokenaize(doc):\n",
    "    tagger.parse(\"\")  # 追加←これを最初にやっておかないと文字コードのエラーがでてくる（なぜ！！）\n",
    "    node = tagger.parseToNode(doc)\n",
    "\n",
    "    result = []\n",
    "    while node:\n",
    "        hinshi = node.feature.split(\",\")[0]\n",
    "        if hinshi not in [\"BOS/EOS\",\"記号\"]:          \n",
    "            base = node.feature.split(\",\")[6]\n",
    "            if base == '*':\n",
    "                base = node.surface\n",
    "            result.append(base)\n",
    "        node = node.next\n",
    "    # print('i') \n",
    "    return ' '.join(result)"
   ]
  },
  {
   "cell_type": "markdown",
   "metadata": {
    "slideshow": {
     "slide_type": "subslide"
    }
   },
   "source": [
    "## 形態素解析し、単語の原形になおす"
   ]
  },
  {
   "cell_type": "code",
   "execution_count": 16,
   "metadata": {
    "slideshow": {
     "slide_type": "-"
    }
   },
   "outputs": [
    {
     "data": {
      "text/plain": [
       "'企画 書 に 書く れる た 斬新 だ 構想 に わくわく する ます た'"
      ]
     },
     "execution_count": 16,
     "metadata": {},
     "output_type": "execute_result"
    }
   ],
   "source": [
    "word_tokenaize(\"企画書に書かれた斬新な構想に、わくわくしました\")"
   ]
  },
  {
   "cell_type": "markdown",
   "metadata": {
    "slideshow": {
     "slide_type": "slide"
    }
   },
   "source": [
    "# 極性辞書ベースで推計\n",
    "- 東北大の乾・岡崎研究室が公開されている「日本語評価極性辞書」（★）\n",
    "- 東工大の高村教授が公開されている「単語感情極性対応表」"
   ]
  },
  {
   "cell_type": "code",
   "execution_count": 21,
   "metadata": {
    "slideshow": {
     "slide_type": "skip"
    }
   },
   "outputs": [],
   "source": [
    "import json\n",
    "\n",
    "#  乾辞書\n",
    "noun_dict = json.load(open('pn_noun.json'))\n",
    "wago_dict = json.load(open('pn_wago.json'))"
   ]
  },
  {
   "cell_type": "code",
   "execution_count": 38,
   "metadata": {
    "slideshow": {
     "slide_type": "skip"
    }
   },
   "outputs": [],
   "source": [
    "def inuiScore(wakati):\n",
    "    p_count = 0\n",
    "    n_count = 0\n",
    "    wlist = wakati.split()\n",
    "    for text in wlist:\n",
    "        if text in noun_dict:\n",
    "            if noun_dict[text] == 'p' or noun_dict[text] == 'ポジ（評価）':\n",
    "                print('ポジティブ：'+text)\n",
    "                p_count = p_count + 1\n",
    "            else:\n",
    "                print('ネガティブ：'+text)\n",
    "                n_count = n_count + 1\n",
    "        elif text in wago_dict:\n",
    "            if wago_dict[text] == 'p' or wago_dict[text] == 'ポジ（評価）':\n",
    "                print('ポジティブ：'+text)\n",
    "                p_count = p_count + 1\n",
    "            else:\n",
    "                print('ネガティブ：'+text)\n",
    "                n_count = n_count + 1\n",
    "    return ([p_count, n_count])"
   ]
  },
  {
   "cell_type": "markdown",
   "metadata": {
    "slideshow": {
     "slide_type": "subslide"
    }
   },
   "source": [
    "## ポジネガ単語の抽出"
   ]
  },
  {
   "cell_type": "code",
   "execution_count": 39,
   "metadata": {},
   "outputs": [
    {
     "name": "stdout",
     "output_type": "stream",
     "text": [
      "ポジティブ：斬新\n",
      "ポジティブ：わくわく\n"
     ]
    },
    {
     "data": {
      "text/plain": [
       "[2, 0]"
      ]
     },
     "execution_count": 39,
     "metadata": {},
     "output_type": "execute_result"
    }
   ],
   "source": [
    "inuiScore(word_tokenaize(\"企画書に書かれた斬新な構想に、わくわくしました\"))"
   ]
  },
  {
   "cell_type": "code",
   "execution_count": null,
   "metadata": {
    "slideshow": {
     "slide_type": "subslide"
    }
   },
   "outputs": [],
   "source": []
  }
 ],
 "metadata": {
  "celltoolbar": "Slideshow",
  "kernelspec": {
   "display_name": "Python 3",
   "language": "python",
   "name": "python3"
  },
  "language_info": {
   "codemirror_mode": {
    "name": "ipython",
    "version": 3
   },
   "file_extension": ".py",
   "mimetype": "text/x-python",
   "name": "python",
   "nbconvert_exporter": "python",
   "pygments_lexer": "ipython3",
   "version": "3.7.4"
  }
 },
 "nbformat": 4,
 "nbformat_minor": 2
}
