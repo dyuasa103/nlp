{
 "cells": [
  {
   "cell_type": "markdown",
   "metadata": {
    "slideshow": {
     "slide_type": "slide"
    }
   },
   "source": [
    "# 単純ベイズ分類器で分類\n",
    "\n",
    "法政大学　卒業生　湯浅大地"
   ]
  },
  {
   "cell_type": "markdown",
   "metadata": {
    "slideshow": {
     "slide_type": "slide"
    }
   },
   "source": [
    "## 単純ベイズ分類器（Naive Bayes Classifier）とは\n",
    "\n",
    "- ナイーブベイズは機械学習の手法の中でも「教師あり学習」に属する\n",
    "- 他の機械学習の手法と大きく異なる点として、条件付き確率の性質でもある「ベイズの定理」を基とした手法\n",
    "- ナイーブベイズは分類（Classification）のみであり回帰などに適用することはできない\n",
    "- ナイーブベイズは構造が単純であるにも関わらず複雑な分類問題に対してもうまく機能する事が多々ある\n",
    "- 他の機械学習手法よりも計算コストが低い"
   ]
  },
  {
   "cell_type": "markdown",
   "metadata": {
    "slideshow": {
     "slide_type": "slide"
    }
   },
   "source": [
    "# 本発表の流れ\n",
    "\n",
    "- 条件付き確率\n",
    "- ベイズの定理\n",
    "- ベイズの定理で計算してみよう\n",
    "- 単純ベイズ分類器で分類してみよう"
   ]
  },
  {
   "cell_type": "markdown",
   "metadata": {
    "slideshow": {
     "slide_type": "slide"
    }
   },
   "source": [
    "## 条件付き確率\n",
    "\n",
    "「Bが起きたという条件でAが起きる」\n",
    "\n",
    "$$\n",
    "P(A \\mid B) = \\frac{P(B \\cap A)}{P(B)}\n",
    "$$"
   ]
  },
  {
   "cell_type": "markdown",
   "metadata": {
    "slideshow": {
     "slide_type": "slide"
    }
   },
   "source": [
    "##  ベイズの定理\n",
    "\n",
    "- ぱっと見どういうメリットがあるのという感じであるが\n",
    "\n",
    "$$\n",
    "P(A \\mid B) = \\frac{P(B \\mid A)P(A)}{P(B)}\n",
    "$$"
   ]
  },
  {
   "cell_type": "markdown",
   "metadata": {
    "slideshow": {
     "slide_type": "subslide"
    }
   },
   "source": [
    "##  ベイズの定理のすごいとこ\n",
    "\n",
    "- この式で重要なのは結果から原因の確率（逆確率）を求められることにある\n",
    "- 結果は観測しやすいけどその原因が分からないような場合に、ベイズの定理が威力を発揮する\n",
    "- 確率P(原因|結果)が確率P(結果|原因)から導かれる式になっていることを確認しましょう\n",
    "\n",
    "$$\n",
    "P(原因 \\mid 結果) = \\frac{P(結果 \\mid 原因)P(原因)}{P(結果)}\n",
    "$$"
   ]
  },
  {
   "cell_type": "markdown",
   "metadata": {
    "slideshow": {
     "slide_type": "slide"
    }
   },
   "source": [
    "## ベイズの定理で計算してみよう\n",
    "\n",
    "電車の遅延分数と遅刻/定時出社の人数をまとめたデータ"
   ]
  },
  {
   "cell_type": "code",
   "execution_count": 43,
   "metadata": {
    "slideshow": {
     "slide_type": "-"
    }
   },
   "outputs": [
    {
     "data": {
      "image/png": "[encoded data removed]",
      "text/plain": [
       "<IPython.core.display.Image object>"
      ]
     },
     "execution_count": 43,
     "metadata": {},
     "output_type": "execute_result"
    }
   ],
   "source": [
    "from IPython.display import Image\n",
    "Image(\"./work_late_table.png\")"
   ]
  },
  {
   "cell_type": "markdown",
   "metadata": {
    "slideshow": {
     "slide_type": "subslide"
    }
   },
   "source": [
    "### 電車が5分遅延した場合、遅刻する確率は?\n",
    "\n",
    "$$\n",
    "P(遅刻 \\mid 5分遅延) = \\frac{P(5分遅延 \\mid 遅刻)P(遅刻)}{P(5分遅延)}\n",
    "$$"
   ]
  },
  {
   "cell_type": "code",
   "execution_count": 44,
   "metadata": {
    "slideshow": {
     "slide_type": "skip"
    }
   },
   "outputs": [],
   "source": [
    "# 定時と遅刻のデータを作成\n",
    "in_time = [(0, 15), (1, 12), (2, 10), (3, 8),\n",
    "           (4, 7), (5, 6), (6, 2), (7, 0),\n",
    "           (8, 0), (9, 0), (10, 0)]\n",
    "too_late = [(0,0),(1, 0), (2, 0), (3, 2), (4, 3), \n",
    "            (5, 4), (6, 5), (7,7), (8, 8),\n",
    "            (9, 7), (10, 4)]"
   ]
  },
  {
   "cell_type": "markdown",
   "metadata": {
    "slideshow": {
     "slide_type": "slide"
    }
   },
   "source": [
    "### 𝑃(5分遅延∣遅刻)を算出"
   ]
  },
  {
   "cell_type": "code",
   "execution_count": 45,
   "metadata": {
    "slideshow": {
     "slide_type": "subslide"
    }
   },
   "outputs": [
    {
     "data": {
      "text/plain": [
       "40"
      ]
     },
     "execution_count": 45,
     "metadata": {},
     "output_type": "execute_result"
    }
   ],
   "source": [
    "# 遅刻した人数を算出\n",
    "chikoku = 0\n",
    "for i in range(0,11):\n",
    "    chikoku += too_late[i][1]\n",
    "chikoku"
   ]
  },
  {
   "cell_type": "code",
   "execution_count": 46,
   "metadata": {
    "slideshow": {
     "slide_type": "subslide"
    }
   },
   "outputs": [
    {
     "data": {
      "text/plain": [
       "4"
      ]
     },
     "execution_count": 46,
     "metadata": {},
     "output_type": "execute_result"
    }
   ],
   "source": [
    "# 5分遅延かつ遅刻の人数を算出\n",
    "min5 = too_late[5][1]\n",
    "min5"
   ]
  },
  {
   "cell_type": "code",
   "execution_count": 47,
   "metadata": {
    "slideshow": {
     "slide_type": "subslide"
    }
   },
   "outputs": [
    {
     "name": "stdout",
     "output_type": "stream",
     "text": [
      "0.1\n"
     ]
    }
   ],
   "source": [
    "# P(5分遅延 | 遅刻)を算出\n",
    "likelihood = min5 / chikoku\n",
    "print(likelihood)"
   ]
  },
  {
   "cell_type": "markdown",
   "metadata": {
    "slideshow": {
     "slide_type": "slide"
    }
   },
   "source": [
    "### 𝑃(遅刻)を算出"
   ]
  },
  {
   "cell_type": "code",
   "execution_count": 48,
   "metadata": {
    "slideshow": {
     "slide_type": "subslide"
    }
   },
   "outputs": [
    {
     "data": {
      "text/plain": [
       "100"
      ]
     },
     "execution_count": 48,
     "metadata": {},
     "output_type": "execute_result"
    }
   ],
   "source": [
    "# 全人数を算出（100名）\n",
    "total = 0\n",
    "for i in range(0, 11):\n",
    "    total += in_time[i][1]\n",
    "    total += too_late[i][1]\n",
    "total"
   ]
  },
  {
   "cell_type": "code",
   "execution_count": 49,
   "metadata": {
    "slideshow": {
     "slide_type": "subslide"
    }
   },
   "outputs": [
    {
     "name": "stdout",
     "output_type": "stream",
     "text": [
      "0.4\n"
     ]
    }
   ],
   "source": [
    "# P(遅刻) = 遅刻した人数 ÷ 全人数\n",
    "prior = chikoku / total\n",
    "print(prior)"
   ]
  },
  {
   "cell_type": "markdown",
   "metadata": {
    "slideshow": {
     "slide_type": "slide"
    }
   },
   "source": [
    "### 𝑃(5分遅延)を算出"
   ]
  },
  {
   "cell_type": "code",
   "execution_count": 50,
   "metadata": {
    "slideshow": {
     "slide_type": "subslide"
    }
   },
   "outputs": [
    {
     "data": {
      "text/plain": [
       "10"
      ]
     },
     "execution_count": 50,
     "metadata": {},
     "output_type": "execute_result"
    }
   ],
   "source": [
    "# 5分遅延の人数合計\n",
    "min5_total = in_time[5][1] + too_late[5][1]\n",
    "min5_total"
   ]
  },
  {
   "cell_type": "code",
   "execution_count": 51,
   "metadata": {
    "slideshow": {
     "slide_type": "subslide"
    }
   },
   "outputs": [
    {
     "name": "stdout",
     "output_type": "stream",
     "text": [
      "0.1\n"
     ]
    }
   ],
   "source": [
    "# P(5分遅延) = 5分遅延した人数 ÷ 全人数\n",
    "marginal = min5_total / total\n",
    "print(marginal)"
   ]
  },
  {
   "cell_type": "code",
   "execution_count": 52,
   "metadata": {
    "slideshow": {
     "slide_type": "subslide"
    }
   },
   "outputs": [
    {
     "data": {
      "text/plain": [
       "0.4000000000000001"
      ]
     },
     "execution_count": 52,
     "metadata": {},
     "output_type": "execute_result"
    }
   ],
   "source": [
    "# P(遅刻∣5分遅延)\n",
    "(likelihood * prior) / marginal"
   ]
  },
  {
   "cell_type": "markdown",
   "metadata": {
    "slideshow": {
     "slide_type": "slide"
    }
   },
   "source": [
    "## 単純ベイズ分類器で分類してみよう"
   ]
  },
  {
   "cell_type": "markdown",
   "metadata": {
    "slideshow": {
     "slide_type": "subslide"
    }
   },
   "source": [
    "### 社員一人ひとりを各行に、列には遅刻したら「1」、定時の場合は（0）、さらにそれぞれの電車遅延分数を値として作成します。"
   ]
  },
  {
   "cell_type": "code",
   "execution_count": 53,
   "metadata": {
    "slideshow": {
     "slide_type": "subslide"
    }
   },
   "outputs": [],
   "source": [
    "# クラス（定時＝0、遅刻＝1）\n",
    "LateTarget = [0,0,0,0,0,0,0,0,0,0,\n",
    "0,0,0,0,0,0,0,0,0,0,\n",
    "0,0,0,0,0,0,0,0,0,0,\n",
    "0,0,0,0,0,0,0,0,0,0,\n",
    "0,0,0,0,0,0,0,0,0,0,\n",
    "0,0,0,0,0,0,0,0,0,0,\n",
    "1,1,1,1,1,1,1,1,1,1,\n",
    "1,1,1,1,1,1,1,1,1,1,\n",
    "1,1,1,1,1,1,1,1,1,1,\n",
    "1,1,1,1,1,1,1,1,1,1]"
   ]
  },
  {
   "cell_type": "code",
   "execution_count": 54,
   "metadata": {
    "slideshow": {
     "slide_type": "subslide"
    }
   },
   "outputs": [],
   "source": [
    "# 特徴量（電車遅延分数）\n",
    "MinutesLate = [0,0,0,0,0,0,0,0,0,0,\n",
    "0,0,0,0,0,1,1,1,1,1,\n",
    "1,1,1,1,1,1,1,2,2,2,\n",
    "2,2,2,2,2,2,2,3,3,3,\n",
    "3,3,3,3,3,4,4,4,4,4,\n",
    "4,4,5,5,5,5,5,5,6,6,\n",
    "3,3,4,4,4,5,5,5,5,6,\n",
    "6,6,6,6,7,7,7,7,7,7,\n",
    "7,8,8,8,8,8,8,8,8,9,\n",
    "9,9,9,9,9,9,10,10,10,10]"
   ]
  },
  {
   "cell_type": "code",
   "execution_count": 55,
   "metadata": {
    "slideshow": {
     "slide_type": "subslide"
    }
   },
   "outputs": [
    {
     "data": {
      "text/html": [
       "<div>\n",
       "<style scoped>\n",
       "    .dataframe tbody tr th:only-of-type {\n",
       "        vertical-align: middle;\n",
       "    }\n",
       "\n",
       "    .dataframe tbody tr th {\n",
       "        vertical-align: top;\n",
       "    }\n",
       "\n",
       "    .dataframe thead th {\n",
       "        text-align: right;\n",
       "    }\n",
       "</style>\n",
       "<table border=\"1\" class=\"dataframe\">\n",
       "  <thead>\n",
       "    <tr style=\"text-align: right;\">\n",
       "      <th></th>\n",
       "      <th>MinutesLate</th>\n",
       "      <th>LateTarget</th>\n",
       "    </tr>\n",
       "  </thead>\n",
       "  <tbody>\n",
       "    <tr>\n",
       "      <td>58</td>\n",
       "      <td>6</td>\n",
       "      <td>0</td>\n",
       "    </tr>\n",
       "    <tr>\n",
       "      <td>59</td>\n",
       "      <td>6</td>\n",
       "      <td>0</td>\n",
       "    </tr>\n",
       "    <tr>\n",
       "      <td>60</td>\n",
       "      <td>3</td>\n",
       "      <td>1</td>\n",
       "    </tr>\n",
       "    <tr>\n",
       "      <td>61</td>\n",
       "      <td>3</td>\n",
       "      <td>1</td>\n",
       "    </tr>\n",
       "    <tr>\n",
       "      <td>62</td>\n",
       "      <td>4</td>\n",
       "      <td>1</td>\n",
       "    </tr>\n",
       "  </tbody>\n",
       "</table>\n",
       "</div>"
      ],
      "text/plain": [
       "    MinutesLate  LateTarget\n",
       "58            6           0\n",
       "59            6           0\n",
       "60            3           1\n",
       "61            3           1\n",
       "62            4           1"
      ]
     },
     "execution_count": 55,
     "metadata": {},
     "output_type": "execute_result"
    }
   ],
   "source": [
    "import pandas as pd\n",
    "# データフレームの作成\n",
    "ML = pd.DataFrame({'MinutesLate':MinutesLate,'LateTarget': LateTarget})\n",
    "ML[58: 63]"
   ]
  },
  {
   "cell_type": "code",
   "execution_count": 56,
   "metadata": {
    "slideshow": {
     "slide_type": "subslide"
    }
   },
   "outputs": [
    {
     "data": {
      "text/plain": [
       "(100, 2)"
      ]
     },
     "execution_count": 56,
     "metadata": {},
     "output_type": "execute_result"
    }
   ],
   "source": [
    "# データフレームのサイズ確認\n",
    "ML.shape"
   ]
  },
  {
   "cell_type": "markdown",
   "metadata": {
    "slideshow": {
     "slide_type": "subslide"
    }
   },
   "source": [
    "###  Scikit-learnのsklearn.naive_bayesのモジュール\n",
    "\n",
    "- Scikit-learnのsklearn.naive_bayesのモジュールを利用する事で、ナイーブベイズのアルゴリズムを利用する事が可能\n",
    "- sklearn.naive_bayesには訓練データの特性に応じて3種類のナイーブベイズのアルゴリズムが実装されている\n",
    "    - GaussianNB（ガウシアン・ナイーブベイズ）\n",
    "    - MultinomialNB（多項分布・ナイーブベイズ）\n",
    "    - BernoulliNB（ベルヌーイ・ナイーブベイズ）\n",
    "- 今回はGaussianNB()を利用する"
   ]
  },
  {
   "cell_type": "code",
   "execution_count": 57,
   "metadata": {
    "slideshow": {
     "slide_type": "subslide"
    }
   },
   "outputs": [],
   "source": [
    "# Scikit-learnのナイーブベイズのモジュールをインポート\n",
    "from sklearn.naive_bayes import GaussianNB\n",
    "clf = GaussianNB()"
   ]
  },
  {
   "cell_type": "code",
   "execution_count": 58,
   "metadata": {
    "slideshow": {
     "slide_type": "subslide"
    }
   },
   "outputs": [],
   "source": [
    "# 特徴量（電車遅延分数）とターゲット（定時/遅刻）を訓練\n",
    "clf = clf.fit(ML['MinutesLate'].values.reshape(-1,1),ML['LateTarget'])"
   ]
  },
  {
   "cell_type": "code",
   "execution_count": 59,
   "metadata": {
    "slideshow": {
     "slide_type": "subslide"
    }
   },
   "outputs": [],
   "source": [
    "# 特徴量毎の確率を算出\n",
    "ypredprob = clf.predict_proba(ML['MinutesLate'].values.reshape(-1,1))\n",
    "\n",
    "# データフレームに格納\n",
    "ML['prob'] = ypredprob[:,1]"
   ]
  },
  {
   "cell_type": "code",
   "execution_count": 60,
   "metadata": {
    "scrolled": true,
    "slideshow": {
     "slide_type": "subslide"
    }
   },
   "outputs": [
    {
     "data": {
      "text/html": [
       "<div>\n",
       "<style scoped>\n",
       "    .dataframe tbody tr th:only-of-type {\n",
       "        vertical-align: middle;\n",
       "    }\n",
       "\n",
       "    .dataframe tbody tr th {\n",
       "        vertical-align: top;\n",
       "    }\n",
       "\n",
       "    .dataframe thead th {\n",
       "        text-align: right;\n",
       "    }\n",
       "</style>\n",
       "<table border=\"1\" class=\"dataframe\">\n",
       "  <thead>\n",
       "    <tr style=\"text-align: right;\">\n",
       "      <th></th>\n",
       "      <th>MinutesLate</th>\n",
       "      <th>LateTarget</th>\n",
       "      <th>prob</th>\n",
       "    </tr>\n",
       "  </thead>\n",
       "  <tbody>\n",
       "    <tr>\n",
       "      <td>58</td>\n",
       "      <td>6</td>\n",
       "      <td>0</td>\n",
       "      <td>0.847262</td>\n",
       "    </tr>\n",
       "    <tr>\n",
       "      <td>59</td>\n",
       "      <td>6</td>\n",
       "      <td>0</td>\n",
       "      <td>0.847262</td>\n",
       "    </tr>\n",
       "    <tr>\n",
       "      <td>60</td>\n",
       "      <td>3</td>\n",
       "      <td>1</td>\n",
       "      <td>0.070537</td>\n",
       "    </tr>\n",
       "    <tr>\n",
       "      <td>61</td>\n",
       "      <td>3</td>\n",
       "      <td>1</td>\n",
       "      <td>0.070537</td>\n",
       "    </tr>\n",
       "    <tr>\n",
       "      <td>62</td>\n",
       "      <td>4</td>\n",
       "      <td>1</td>\n",
       "      <td>0.232496</td>\n",
       "    </tr>\n",
       "  </tbody>\n",
       "</table>\n",
       "</div>"
      ],
      "text/plain": [
       "    MinutesLate  LateTarget      prob\n",
       "58            6           0  0.847262\n",
       "59            6           0  0.847262\n",
       "60            3           1  0.070537\n",
       "61            3           1  0.070537\n",
       "62            4           1  0.232496"
      ]
     },
     "execution_count": 60,
     "metadata": {},
     "output_type": "execute_result"
    }
   ],
   "source": [
    "# データフレームを確認\n",
    "ML[58: 63]"
   ]
  },
  {
   "cell_type": "markdown",
   "metadata": {
    "slideshow": {
     "slide_type": "subslide"
    }
   },
   "source": [
    "### 特徴量毎の確率の算出結果\n",
    "\n",
    "- ↓上から電車遅延分数0,1,2…10分\n",
    "- 電車遅延数が増えていくほど、遅刻する確率が増えることを確認できる"
   ]
  },
  {
   "cell_type": "code",
   "execution_count": 61,
   "metadata": {
    "slideshow": {
     "slide_type": "-"
    }
   },
   "outputs": [
    {
     "data": {
      "text/plain": [
       "[0.0015736833310562891,\n",
       " 0.005444352749944612,\n",
       " 0.01952603620790533,\n",
       " 0.07053685129948228,\n",
       " 0.2324959743345932,\n",
       " 0.5588055497774197,\n",
       " 0.8472622824652528,\n",
       " 0.9621902793943331,\n",
       " 0.9918889954984073,\n",
       " 0.9983780754022074,\n",
       " 0.9996919786114439]"
      ]
     },
     "execution_count": 61,
     "metadata": {},
     "output_type": "execute_result"
    }
   ],
   "source": [
    "# 特徴量ごとの確率を確認\n",
    "list(ML['prob'].unique())"
   ]
  },
  {
   "cell_type": "code",
   "execution_count": 62,
   "metadata": {
    "slideshow": {
     "slide_type": "subslide"
    }
   },
   "outputs": [
    {
     "data": {
      "text/html": [
       "<div>\n",
       "<style scoped>\n",
       "    .dataframe tbody tr th:only-of-type {\n",
       "        vertical-align: middle;\n",
       "    }\n",
       "\n",
       "    .dataframe tbody tr th {\n",
       "        vertical-align: top;\n",
       "    }\n",
       "\n",
       "    .dataframe thead th {\n",
       "        text-align: right;\n",
       "    }\n",
       "</style>\n",
       "<table border=\"1\" class=\"dataframe\">\n",
       "  <thead>\n",
       "    <tr style=\"text-align: right;\">\n",
       "      <th></th>\n",
       "      <th>MinutesLate</th>\n",
       "      <th>LateTarget</th>\n",
       "      <th>prob</th>\n",
       "      <th>prediction</th>\n",
       "    </tr>\n",
       "  </thead>\n",
       "  <tbody>\n",
       "    <tr>\n",
       "      <td>58</td>\n",
       "      <td>6</td>\n",
       "      <td>0</td>\n",
       "      <td>0.847262</td>\n",
       "      <td>1</td>\n",
       "    </tr>\n",
       "    <tr>\n",
       "      <td>59</td>\n",
       "      <td>6</td>\n",
       "      <td>0</td>\n",
       "      <td>0.847262</td>\n",
       "      <td>1</td>\n",
       "    </tr>\n",
       "    <tr>\n",
       "      <td>60</td>\n",
       "      <td>3</td>\n",
       "      <td>1</td>\n",
       "      <td>0.070537</td>\n",
       "      <td>0</td>\n",
       "    </tr>\n",
       "    <tr>\n",
       "      <td>61</td>\n",
       "      <td>3</td>\n",
       "      <td>1</td>\n",
       "      <td>0.070537</td>\n",
       "      <td>0</td>\n",
       "    </tr>\n",
       "    <tr>\n",
       "      <td>62</td>\n",
       "      <td>4</td>\n",
       "      <td>1</td>\n",
       "      <td>0.232496</td>\n",
       "      <td>0</td>\n",
       "    </tr>\n",
       "  </tbody>\n",
       "</table>\n",
       "</div>"
      ],
      "text/plain": [
       "    MinutesLate  LateTarget      prob  prediction\n",
       "58            6           0  0.847262           1\n",
       "59            6           0  0.847262           1\n",
       "60            3           1  0.070537           0\n",
       "61            3           1  0.070537           0\n",
       "62            4           1  0.232496           0"
      ]
     },
     "execution_count": 62,
     "metadata": {},
     "output_type": "execute_result"
    }
   ],
   "source": [
    "# 特徴量からターゲットを予測\n",
    "ypred = clf.predict(ML['MinutesLate'].values.reshape(-1,1))\n",
    "ML['prediction'] = ypred\n",
    "ML[58: 63]"
   ]
  },
  {
   "cell_type": "markdown",
   "metadata": {
    "slideshow": {
     "slide_type": "slide"
    }
   },
   "source": [
    "# おわりに\n",
    "\n",
    "- 単純ベイズ分類器は分類問題に使える\n",
    "- ネガポジを分類しているデータさえ用意すれば、トーン分析に応用できる"
   ]
  }
 ],
 "metadata": {
  "celltoolbar": "Slideshow",
  "kernelspec": {
   "display_name": "Python 3",
   "language": "python",
   "name": "python3"
  },
  "language_info": {
   "codemirror_mode": {
    "name": "ipython",
    "version": 3
   },
   "file_extension": ".py",
   "mimetype": "text/x-python",
   "name": "python",
   "nbconvert_exporter": "python",
   "pygments_lexer": "ipython3",
   "version": "3.7.4"
  }
 },
 "nbformat": 4,
 "nbformat_minor": 2
}
